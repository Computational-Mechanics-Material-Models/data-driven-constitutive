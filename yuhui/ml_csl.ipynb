{
 "cells": [
  {
   "cell_type": "code",
   "execution_count": 15,
   "id": "714377b7",
   "metadata": {},
   "outputs": [],
   "source": [
    "import numpy as np\n",
    "import tensorflow as tf\n",
    "from tensorflow.keras.models import Sequential\n",
    "from tensorflow. keras.layers import LSTM, Dense\n",
    "from sklearn.model_selection import train_test_split\n",
    "import matplotlib.pyplot as plt\n",
    "import random\n",
    "from tensorflow.keras.optimizers import Adam\n",
    "from tensorflow.keras.layers import Bidirectional\n",
    "from tensorflow.keras.layers import Dropout\n",
    "from sklearn.preprocessing import StandardScaler\n",
    "from sklearn.preprocessing import MinMaxScaler\n",
    "from tensorflow.keras.regularizers import l1_l2\n",
    "from tensorflow.keras.layers import GaussianNoise"
   ]
  },
  {
   "cell_type": "code",
   "execution_count": 16,
   "id": "4a2dc123-2edd-434a-9bfa-a72eca9e00b9",
   "metadata": {},
   "outputs": [],
   "source": [
    "# Configure GPUs for distributed training\n",
    "gpus = tf.config.list_physical_devices('GPU')\n",
    "if len(gpus) < 4:\n",
    "    raise RuntimeError(f\"At least 4 GPUs are required, but {len(gpus)} found.\")\n",
    "for gpu in gpus:\n",
    "    tf.config.experimental.set_memory_growth(gpu, True)"
   ]
  },
  {
   "cell_type": "code",
   "execution_count": 17,
   "id": "9b6c4b6d",
   "metadata": {},
   "outputs": [
    {
     "name": "stdout",
     "output_type": "stream",
     "text": [
      "       step      strain11      strain22      strain33      strain12  \\\n",
      "0       0.0 -5.040000e-09 -5.700000e-09 -5.690000e-09 -3.640000e-10   \n",
      "1       1.0  7.461377e-07  2.040652e-08  2.443692e-09 -3.990000e-07   \n",
      "2       2.0  1.592366e-06  7.030157e-08  2.266864e-08 -8.360000e-07   \n",
      "3       3.0  2.520677e-06  1.461589e-07  5.385879e-08 -1.300000e-06   \n",
      "4       4.0  3.514574e-06  2.501856e-07  9.455118e-08 -1.790000e-06   \n",
      "...     ...           ...           ...           ...           ...   \n",
      "996   996.0  1.832180e-04  2.066940e-04  4.903175e-05  9.640994e-06   \n",
      "997   997.0  1.688390e-04  1.896590e-04  4.417211e-05  8.433610e-06   \n",
      "998   998.0  1.546520e-04  1.730650e-04  3.951203e-05  7.358145e-06   \n",
      "999   999.0  1.407770e-04  1.570150e-04  3.505309e-05  6.403112e-06   \n",
      "1000    0.0 -5.670000e-09 -5.550000e-09 -5.470000e-09  1.540465e-10   \n",
      "\n",
      "          strain13      strain23     stress11     stress22     stress33  \\\n",
      "0    -3.920000e-11  5.381170e-11    -317.0653    -336.5377    -337.1342   \n",
      "1    -4.750000e-08  5.416350e-08   30188.5000    8885.4500    7275.2640   \n",
      "2    -1.010000e-07  1.121145e-07   64875.5700   20192.8100   16511.8700   \n",
      "3    -1.600000e-07  1.722295e-07  103235.7000   33520.0900   27228.6200   \n",
      "4    -2.240000e-07  2.324978e-07  144615.8000   48761.4200   39235.0400   \n",
      "...            ...           ...          ...          ...          ...   \n",
      "996  -2.140000e-05 -2.530000e-05  743739.5000  851646.8000  351565.3000   \n",
      "997  -1.980000e-05 -2.330000e-05  684476.6000  781409.5000  320461.7000   \n",
      "998  -1.820000e-05 -2.130000e-05  626175.8000  712928.5000  290305.3000   \n",
      "999  -1.670000e-05 -1.940000e-05  569297.2000  646635.5000  261216.6000   \n",
      "1000  3.262363e-10  5.778745e-11    -338.5848    -334.9621    -332.5920   \n",
      "\n",
      "          stress12      stress13      stress23  index  size  material  \n",
      "0       -11.657760     -0.928740      1.401689    0.0  30.0       0.0  \n",
      "1    -12773.120000  -1153.189000   1402.359000    0.0  30.0       0.0  \n",
      "2    -26797.520000  -2462.271000   2899.855000    0.0  30.0       0.0  \n",
      "3    -41821.510000  -3920.245000   4449.381000    0.0  30.0       0.0  \n",
      "4    -57519.500000  -5515.528000   5997.661000    0.0  30.0       0.0  \n",
      "...            ...           ...           ...    ...   ...       ...  \n",
      "996   22373.560000 -61610.390000 -61674.795000    0.0  30.0       0.0  \n",
      "997   19248.690000 -56954.305000 -56722.525000    0.0  30.0       0.0  \n",
      "998   16512.205000 -52360.000000 -51911.715000    0.0  30.0       0.0  \n",
      "999   14125.045000 -47871.875000 -47275.205000    0.0  30.0       0.0  \n",
      "1000      4.755869      9.791444      1.893972    1.0  30.0       0.0  \n",
      "\n",
      "[1001 rows x 16 columns]\n"
     ]
    }
   ],
   "source": [
    "\n",
    "import pandas as pd\n",
    "import numpy as np\n",
    "\n",
    "# 文件路径\n",
    "file_paths = [\n",
    "\n",
    "    \"averaged_size_30_strain22.csv\",\n",
    "\n",
    "]\n",
    "\n",
    "# 读取数据\n",
    "df_list = [pd.read_csv(file) for file in file_paths]\n",
    "\n",
    "# 逐个增加索引\n",
    "index_offset = 0\n",
    "for df in df_list:\n",
    "    df['index'] = df['index'] + index_offset\n",
    "    index_offset += len(df['index'].unique())\n",
    "\n",
    "# 合并数据\n",
    "df_combined = pd.concat(df_list, ignore_index=False)\n",
    "\n",
    "# 删除缺失值\n",
    "df_combined.dropna(inplace=True)\n",
    "\n",
    "# 转换数据类型为 float64\n",
    "df_combined = df_combined.astype(np.float64)\n",
    "\n",
    "# 显示前 1001 行\n",
    "print(df_combined.head(1001))\n",
    "df_combined.to_csv(\"combined_dataset.csv\", index=False)\n",
    "\n",
    "\n"
   ]
  },
  {
   "cell_type": "code",
   "execution_count": 18,
   "id": "b403fd96",
   "metadata": {},
   "outputs": [],
   "source": [
    "angle1 = np.genfromtxt(\"angle1.txt\", delimiter=',')\n",
    "angle2 = np.genfromtxt(\"angle2.txt\", delimiter=',')\n",
    "angle3 = np.genfromtxt(\"angle3.txt\", delimiter=',')"
   ]
  },
  {
   "cell_type": "code",
   "execution_count": 19,
   "id": "fd7575c4",
   "metadata": {},
   "outputs": [
    {
     "name": "stdout",
     "output_type": "stream",
     "text": [
      "(3, 3)\n",
      "[[ 0.20076997  0.04246243  0.97871771]\n",
      " [-0.40057632  0.91527895  0.04246243]\n",
      " [-0.89399666 -0.40057632  0.20076997]]\n"
     ]
    }
   ],
   "source": [
    "def generateRmatrix(angle1, angle2, angle3):\n",
    "    R1 = np.array([[np.cos(angle1), -np.sin(angle1), 0],[np.sin(angle1), np.cos(angle1), 0],[0, 0, 1]])\n",
    "    print(R1.shape)\n",
    "    R2 = np.array([[np.cos(angle2), 0, np.sin(angle2)], [0,1,0], [-np.sin(angle2), 0, np.cos(angle2)]])\n",
    "    R3 = np.array([[1, 0, 0], [0, np.cos(angle3), -np.sin(angle3)], [0, np.sin(angle3), np.cos(angle3)]])\n",
    "    R = np.matmul(np.matmul(R1, R2), R3)\n",
    "    return R\n",
    "\n",
    "R=generateRmatrix(angle1[0], angle2[0], angle3[0])\n",
    "print(R)"
   ]
  },
  {
   "cell_type": "code",
   "execution_count": 20,
   "id": "f97ddcf1-e2ac-4b04-941f-39b58ea80f98",
   "metadata": {},
   "outputs": [
    {
     "name": "stdout",
     "output_type": "stream",
     "text": [
      "(100, 1000, 6) (100, 1000, 6)\n"
     ]
    }
   ],
   "source": [
    "import numpy as np\n",
    "\n",
    "\n",
    "sequence_length = 1000  # 每个序列的时间步\n",
    "input_n_features = 6\n",
    "output_n_features = 6\n",
    "\n",
    "input_columns = [\"strain11\", \"strain22\", \"strain33\", \"strain12\", \"strain13\", \"strain23\"]\n",
    "output_columns = [\"stress11\", \"stress22\", \"stress33\", \"stress12\", \"stress13\", \"stress23\"]\n",
    "\n",
    "# 重新计算符合条件的样本数\n",
    "valid_indices = df_combined['index'].unique()\n",
    "count = len(valid_indices)   # 每个 index 有 3 组数据\n",
    "\n",
    "# 初始化 X 和 y 数组\n",
    "X = np.zeros((count, sequence_length, input_n_features))\n",
    "y = np.zeros((count, sequence_length, output_n_features))\n",
    "\n",
    "# 填充 X 和 y\n",
    "count = 0\n",
    "for i in valid_indices:\n",
    "    df1 = df_combined[df_combined['index'] == i]\n",
    "    df1 = df1.sort_values(by=\"step\")  # 确保 step 顺序正确\n",
    "    \n",
    "    # 按 step 递增分成三组，每组取 1000 行\n",
    "    for j in range(3):\n",
    "        subset = df1.iloc[j * sequence_length : (j + 1) * sequence_length]\n",
    "        if len(subset) == sequence_length:\n",
    "            X[count] = subset[input_columns].to_numpy()\n",
    "            y[count] = subset[output_columns].to_numpy()\n",
    "            count += 1\n",
    "\n",
    "# 输出最终 X, y 的形状\n",
    "print(X.shape, y.shape)\n",
    "\n"
   ]
  },
  {
   "cell_type": "code",
   "execution_count": 21,
   "id": "3d5c5355",
   "metadata": {},
   "outputs": [],
   "source": [
    "def make_custom_loss_batch(model, X_batch):\n",
    "    def custom_loss(y_true, y_pred):\n",
    "        # Convert R to a TensorFlow constant\n",
    "        R_tensor = tf.constant(R, dtype=tf.float32)\n",
    "        strain = tf.cast(X_batch, dtype=tf.float32)\n",
    "        \n",
    "        # print(R_tensor.shape, strain.shape)\n",
    "\n",
    "        # Extract the diagonal strain components from the first three features\n",
    "        diagonal_strain = strain[:, :, :3]  # Shape: (batch_size, 1000, 3)\n",
    "\n",
    "        # Compute Term 1\n",
    "        term1 = tf.reduce_mean(tf.reduce_sum(tf.square(y_pred - y_true), axis=[1, 2]))\n",
    "\n",
    "        # Compute Term 2\n",
    "        \n",
    "        rotated_strain = tf.linalg.matmul(tf.reshape(diagonal_strain, (-1, 3)), R_tensor)  # shape 40, 528, 3\n",
    "        #print(diagonal_strain.shape, rotated_strain.shape)\n",
    "        rotated_strain = tf.reshape(rotated_strain, tf.shape(diagonal_strain))  # shape 40, 528, 3\n",
    "        #print(diagonal_strain.shape, rotated_strain.shape)\n",
    "        \n",
    "        R_tensor_inv = tf.linalg.inv(R_tensor)  # Compute R^{b-1}\n",
    "        transformed_strain = tf.linalg.matmul(tf.reshape(rotated_strain, (-1, 3)), R_tensor_inv)  # shape 40, 528, 3\n",
    "        transformed_strain = tf.reshape(transformed_strain, tf.shape(rotated_strain))   # shape 40, 528, 3\n",
    "        #print(rotated_strain.shape, transformed_strain.shape)\n",
    "\n",
    "        transformed_strain_padded = tf.concat(\n",
    "            [transformed_strain, tf.zeros_like(strain[:, :, 3:])], axis=-1\n",
    "        )\n",
    "        predicted_transformed_stress = model(transformed_strain_padded)    # shape 40, 528, 6\n",
    "        #print(rotated_strain.shape, transformed_strain.shape, predicted_transformed_stress.shape)\n",
    "\n",
    "        # Apply rotation matrix to stress\n",
    "        rotated_stress = tf.linalg.matmul(tf.reshape(y_pred[:, :, :3], (-1, 3)), R_tensor)\n",
    "        rotated_stress = tf.reshape(rotated_stress, tf.shape(y_pred[:, :, :3]))\n",
    "\n",
    "        #print(predicted_transformed_stress.shape, rotated_stress.shape)\n",
    "        difference = predicted_transformed_stress[:, :, :3] - rotated_stress\n",
    "\n",
    "        \n",
    "        term2 = tf.reduce_mean(tf.reduce_sum(tf.square(difference), axis=[1, 2]))\n",
    "\n",
    "        # Compute Term 3\n",
    "        # Compute delta_sigma as the difference between the current and previous strain values from the input\n",
    "        strain_current = strain[:, 1:, :6]  # Current strain (batch_size, 999, 3)\n",
    "        strain_previous = strain[:, :-1, :6]  # Previous strain (batch_size, 999, 3)\n",
    "        #print(strain_current.shape, strain_previous.shape)\n",
    "        #print(strain_previous[:1, :].shape)\n",
    "\n",
    "        delta_sigma = tf.concat(\n",
    "            [strain_previous[:, :1, :], strain_current - strain_previous], axis=1\n",
    "        )\n",
    "        #print(y_pred.shape, delta_sigma.shape)\n",
    "\n",
    "        \n",
    "        \n",
    "        stress_dot_change = tf.reduce_sum(y_pred * delta_sigma, axis=[1, 2])\n",
    "        t = 1.0\n",
    "        relu_term = tf.nn.relu(-t * stress_dot_change)\n",
    "        term3 = tf.reduce_mean(relu_term)\n",
    "        \n",
    "        print(\"term1\",term1, \"term2\", term2, \"term3\", term3, \"sum\", term1+term2+term3)\n",
    "       \n",
    "        # return term1 + term2 + term3\n",
    "        return term1+ term3\n",
    "\n",
    "    return custom_loss"
   ]
  },
  {
   "cell_type": "markdown",
   "id": "9c3d7c8f-dd38-4a86-bb39-cbd8553ea28b",
   "metadata": {},
   "source": [
    "# multi-GPU training"
   ]
  },
  {
   "cell_type": "markdown",
   "id": "55cdfc20-3c41-4bdf-b2d6-b5bf2efca4ef",
   "metadata": {},
   "source": [
    "# Train again with the best parameters"
   ]
  },
  {
   "cell_type": "code",
   "execution_count": 22,
   "id": "b8284fad-e6a3-4575-a739-d8c250a2d96a",
   "metadata": {},
   "outputs": [],
   "source": [
    "best_params = {'batch_size': 40, 'lstm_units_1': 64, 'lstm_units_2': 32, 'dropout_1': 0.30000000000000004, 'dropout_2': 0.30000000000000004, 'learning_rate': 0.00308}\n",
    "# best_params = {'batch_size': 56, 'lstm_units_1': 64, 'lstm_units_2': 32, 'dropout_1': 0.5, 'dropout_2': 0.5, 'learning_rate': 0.005737688769386706}\n",
    "\n",
    "# Unpack the best parameters\n",
    "batch_size = best_params[\"batch_size\"]\n",
    "lstm_units_1 = best_params[\"lstm_units_1\"]\n",
    "lstm_units_2 = best_params[\"lstm_units_2\"]\n",
    "dropout_1 = best_params[\"dropout_1\"]\n",
    "dropout_2 = best_params[\"dropout_2\"]\n",
    "learning_rate = best_params[\"learning_rate\"]"
   ]
  },
  {
   "cell_type": "code",
   "execution_count": 23,
   "id": "d98e7906",
   "metadata": {},
   "outputs": [
    {
     "name": "stdout",
     "output_type": "stream",
     "text": [
      "100\n"
     ]
    },
    {
     "name": "stderr",
     "output_type": "stream",
     "text": [
      "/data/lzz/miniconda3/envs/yuhui/lib/python3.9/site-packages/keras/src/layers/rnn/bidirectional.py:107: UserWarning: Do not pass an `input_shape`/`input_dim` argument to a layer. When using Sequential models, prefer using an `Input(shape)` object as the first layer in the model instead.\n",
      "  super().__init__(**kwargs)\n"
     ]
    },
    {
     "data": {
      "text/html": [
       "<pre style=\"white-space:pre;overflow-x:auto;line-height:normal;font-family:Menlo,'DejaVu Sans Mono',consolas,'Courier New',monospace\"><span style=\"font-weight: bold\">Model: \"sequential_1\"</span>\n",
       "</pre>\n"
      ],
      "text/plain": [
       "\u001b[1mModel: \"sequential_1\"\u001b[0m\n"
      ]
     },
     "metadata": {},
     "output_type": "display_data"
    },
    {
     "data": {
      "text/html": [
       "<pre style=\"white-space:pre;overflow-x:auto;line-height:normal;font-family:Menlo,'DejaVu Sans Mono',consolas,'Courier New',monospace\">┏━━━━━━━━━━━━━━━━━━━━━━━━━━━━━━━━━┳━━━━━━━━━━━━━━━━━━━━━━━━┳━━━━━━━━━━━━━━━┓\n",
       "┃<span style=\"font-weight: bold\"> Layer (type)                    </span>┃<span style=\"font-weight: bold\"> Output Shape           </span>┃<span style=\"font-weight: bold\">       Param # </span>┃\n",
       "┡━━━━━━━━━━━━━━━━━━━━━━━━━━━━━━━━━╇━━━━━━━━━━━━━━━━━━━━━━━━╇━━━━━━━━━━━━━━━┩\n",
       "│ gaussian_noise_1                │ ?                      │             <span style=\"color: #00af00; text-decoration-color: #00af00\">0</span> │\n",
       "│ (<span style=\"color: #0087ff; text-decoration-color: #0087ff\">GaussianNoise</span>)                 │                        │               │\n",
       "├─────────────────────────────────┼────────────────────────┼───────────────┤\n",
       "│ bidirectional_2 (<span style=\"color: #0087ff; text-decoration-color: #0087ff\">Bidirectional</span>) │ ?                      │   <span style=\"color: #00af00; text-decoration-color: #00af00\">0</span> (unbuilt) │\n",
       "├─────────────────────────────────┼────────────────────────┼───────────────┤\n",
       "│ dropout_2 (<span style=\"color: #0087ff; text-decoration-color: #0087ff\">Dropout</span>)             │ ?                      │             <span style=\"color: #00af00; text-decoration-color: #00af00\">0</span> │\n",
       "├─────────────────────────────────┼────────────────────────┼───────────────┤\n",
       "│ bidirectional_3 (<span style=\"color: #0087ff; text-decoration-color: #0087ff\">Bidirectional</span>) │ ?                      │   <span style=\"color: #00af00; text-decoration-color: #00af00\">0</span> (unbuilt) │\n",
       "├─────────────────────────────────┼────────────────────────┼───────────────┤\n",
       "│ dropout_3 (<span style=\"color: #0087ff; text-decoration-color: #0087ff\">Dropout</span>)             │ ?                      │             <span style=\"color: #00af00; text-decoration-color: #00af00\">0</span> │\n",
       "├─────────────────────────────────┼────────────────────────┼───────────────┤\n",
       "│ dense_1 (<span style=\"color: #0087ff; text-decoration-color: #0087ff\">Dense</span>)                 │ ?                      │   <span style=\"color: #00af00; text-decoration-color: #00af00\">0</span> (unbuilt) │\n",
       "└─────────────────────────────────┴────────────────────────┴───────────────┘\n",
       "</pre>\n"
      ],
      "text/plain": [
       "┏━━━━━━━━━━━━━━━━━━━━━━━━━━━━━━━━━┳━━━━━━━━━━━━━━━━━━━━━━━━┳━━━━━━━━━━━━━━━┓\n",
       "┃\u001b[1m \u001b[0m\u001b[1mLayer (type)                   \u001b[0m\u001b[1m \u001b[0m┃\u001b[1m \u001b[0m\u001b[1mOutput Shape          \u001b[0m\u001b[1m \u001b[0m┃\u001b[1m \u001b[0m\u001b[1m      Param #\u001b[0m\u001b[1m \u001b[0m┃\n",
       "┡━━━━━━━━━━━━━━━━━━━━━━━━━━━━━━━━━╇━━━━━━━━━━━━━━━━━━━━━━━━╇━━━━━━━━━━━━━━━┩\n",
       "│ gaussian_noise_1                │ ?                      │             \u001b[38;5;34m0\u001b[0m │\n",
       "│ (\u001b[38;5;33mGaussianNoise\u001b[0m)                 │                        │               │\n",
       "├─────────────────────────────────┼────────────────────────┼───────────────┤\n",
       "│ bidirectional_2 (\u001b[38;5;33mBidirectional\u001b[0m) │ ?                      │   \u001b[38;5;34m0\u001b[0m (unbuilt) │\n",
       "├─────────────────────────────────┼────────────────────────┼───────────────┤\n",
       "│ dropout_2 (\u001b[38;5;33mDropout\u001b[0m)             │ ?                      │             \u001b[38;5;34m0\u001b[0m │\n",
       "├─────────────────────────────────┼────────────────────────┼───────────────┤\n",
       "│ bidirectional_3 (\u001b[38;5;33mBidirectional\u001b[0m) │ ?                      │   \u001b[38;5;34m0\u001b[0m (unbuilt) │\n",
       "├─────────────────────────────────┼────────────────────────┼───────────────┤\n",
       "│ dropout_3 (\u001b[38;5;33mDropout\u001b[0m)             │ ?                      │             \u001b[38;5;34m0\u001b[0m │\n",
       "├─────────────────────────────────┼────────────────────────┼───────────────┤\n",
       "│ dense_1 (\u001b[38;5;33mDense\u001b[0m)                 │ ?                      │   \u001b[38;5;34m0\u001b[0m (unbuilt) │\n",
       "└─────────────────────────────────┴────────────────────────┴───────────────┘\n"
      ]
     },
     "metadata": {},
     "output_type": "display_data"
    },
    {
     "data": {
      "text/html": [
       "<pre style=\"white-space:pre;overflow-x:auto;line-height:normal;font-family:Menlo,'DejaVu Sans Mono',consolas,'Courier New',monospace\"><span style=\"font-weight: bold\"> Total params: </span><span style=\"color: #00af00; text-decoration-color: #00af00\">0</span> (0.00 B)\n",
       "</pre>\n"
      ],
      "text/plain": [
       "\u001b[1m Total params: \u001b[0m\u001b[38;5;34m0\u001b[0m (0.00 B)\n"
      ]
     },
     "metadata": {},
     "output_type": "display_data"
    },
    {
     "data": {
      "text/html": [
       "<pre style=\"white-space:pre;overflow-x:auto;line-height:normal;font-family:Menlo,'DejaVu Sans Mono',consolas,'Courier New',monospace\"><span style=\"font-weight: bold\"> Trainable params: </span><span style=\"color: #00af00; text-decoration-color: #00af00\">0</span> (0.00 B)\n",
       "</pre>\n"
      ],
      "text/plain": [
       "\u001b[1m Trainable params: \u001b[0m\u001b[38;5;34m0\u001b[0m (0.00 B)\n"
      ]
     },
     "metadata": {},
     "output_type": "display_data"
    },
    {
     "data": {
      "text/html": [
       "<pre style=\"white-space:pre;overflow-x:auto;line-height:normal;font-family:Menlo,'DejaVu Sans Mono',consolas,'Courier New',monospace\"><span style=\"font-weight: bold\"> Non-trainable params: </span><span style=\"color: #00af00; text-decoration-color: #00af00\">0</span> (0.00 B)\n",
       "</pre>\n"
      ],
      "text/plain": [
       "\u001b[1m Non-trainable params: \u001b[0m\u001b[38;5;34m0\u001b[0m (0.00 B)\n"
      ]
     },
     "metadata": {},
     "output_type": "display_data"
    }
   ],
   "source": [
    "input_shape = X.shape[0]\n",
    "print(input_shape)\n",
    "X_train, X_test, y_train, y_test = train_test_split(X, y, test_size=0.25, random_state=40)\n",
    "\n",
    "dataset = tf.data.Dataset.from_tensor_slices(\n",
    "    (tf.cast(X_train, tf.float32), tf.cast(y_train, tf.float32))\n",
    ").batch(batch_size)\n",
    "\n",
    "l1_strength = 1e-5  # L1 penalty (encourages sparsity)\n",
    "l2_strength = 1e-4  # L2 penalty (reduces large weights)\n",
    "\n",
    "# Build the model\n",
    "model = Sequential([\n",
    "    GaussianNoise(0.01),\n",
    "    # First BiLSTM layer with regularization\n",
    "    Bidirectional(LSTM(lstm_units_1, return_sequences=True, activation='tanh',\n",
    "                       kernel_regularizer=l1_l2(l1=l1_strength, l2=l2_strength)), input_shape=(input_shape, 6)),\n",
    "    Dropout(dropout_1),  # Dropout to reduce overfitting\n",
    "\n",
    "    # Second BiLSTM layer with regularization\n",
    "    Bidirectional(LSTM(lstm_units_2, return_sequences=True, activation='tanh',\n",
    "                       kernel_regularizer=l1_l2(l1=l1_strength, l2=l2_strength))),\n",
    "    Dropout(dropout_2),\n",
    "\n",
    "    # Fully connected layer with regularization\n",
    "    Dense(6, activation='linear', kernel_regularizer=l1_l2(l1=l1_strength, l2=l2_strength))\n",
    "])\n",
    "\n",
    "# Compile the model\n",
    "model.compile(optimizer='adam', loss='mse', metrics=['mae'])\n",
    "\n",
    "# Model Summary\n",
    "model.summary()\n",
    "\n",
    "\n",
    "# Define the optimizer\n",
    "optimizer = tf.keras.optimizers.Adam(learning_rate=learning_rate)\n"
   ]
  },
  {
   "cell_type": "code",
   "execution_count": 24,
   "id": "a1389724-8b7c-4d81-83c2-f100ee204cab",
   "metadata": {},
   "outputs": [
    {
     "name": "stdout",
     "output_type": "stream",
     "text": [
      "term1 tf.Tensor(8083598000000000.0, shape=(), dtype=float32) term2 tf.Tensor(1.759857e-05, shape=(), dtype=float32) term3 tf.Tensor(1.5002233e-09, shape=(), dtype=float32) sum tf.Tensor(8083598000000000.0, shape=(), dtype=float32)\n",
      "term1 tf.Tensor(8095792000000000.0, shape=(), dtype=float32) term2 tf.Tensor(7.2434635, shape=(), dtype=float32) term3 tf.Tensor(0.0, shape=(), dtype=float32) sum tf.Tensor(8095792000000000.0, shape=(), dtype=float32)\n",
      "term1 tf.Tensor(8083597700000000.0, shape=(), dtype=float32) term2 tf.Tensor(54.69187, shape=(), dtype=float32) term3 tf.Tensor(1.5971936e-07, shape=(), dtype=float32) sum tf.Tensor(8083597700000000.0, shape=(), dtype=float32)\n",
      "term1 tf.Tensor(8095790000000000.0, shape=(), dtype=float32) term2 tf.Tensor(259.95496, shape=(), dtype=float32) term3 tf.Tensor(0.0, shape=(), dtype=float32) sum tf.Tensor(8095790000000000.0, shape=(), dtype=float32)\n",
      "term1 tf.Tensor(8083594000000000.0, shape=(), dtype=float32) term2 tf.Tensor(1247.9386, shape=(), dtype=float32) term3 tf.Tensor(4.1069944e-07, shape=(), dtype=float32) sum tf.Tensor(8083594000000000.0, shape=(), dtype=float32)\n",
      "term1 tf.Tensor(8095781000000000.0, shape=(), dtype=float32) term2 tf.Tensor(6663.8047, shape=(), dtype=float32) term3 tf.Tensor(0.0, shape=(), dtype=float32) sum tf.Tensor(8095781000000000.0, shape=(), dtype=float32)\n",
      "term1 tf.Tensor(8083575000000000.0, shape=(), dtype=float32) term2 tf.Tensor(29554.568, shape=(), dtype=float32) term3 tf.Tensor(4.962858e-06, shape=(), dtype=float32) sum tf.Tensor(8083575000000000.0, shape=(), dtype=float32)\n",
      "term1 tf.Tensor(8095761600000000.0, shape=(), dtype=float32) term2 tf.Tensor(52915.82, shape=(), dtype=float32) term3 tf.Tensor(0.0, shape=(), dtype=float32) sum tf.Tensor(8095761600000000.0, shape=(), dtype=float32)\n",
      "term1 tf.Tensor(8083563300000000.0, shape=(), dtype=float32) term2 tf.Tensor(72929.195, shape=(), dtype=float32) term3 tf.Tensor(1.7654966e-06, shape=(), dtype=float32) sum tf.Tensor(8083563300000000.0, shape=(), dtype=float32)\n",
      "term1 tf.Tensor(8095752400000000.0, shape=(), dtype=float32) term2 tf.Tensor(91758.83, shape=(), dtype=float32) term3 tf.Tensor(0.0, shape=(), dtype=float32) sum tf.Tensor(8095752400000000.0, shape=(), dtype=float32)\n",
      "term1 tf.Tensor(8083554700000000.0, shape=(), dtype=float32) term2 tf.Tensor(110981.45, shape=(), dtype=float32) term3 tf.Tensor(6.350782e-06, shape=(), dtype=float32) sum tf.Tensor(8083554700000000.0, shape=(), dtype=float32)\n",
      "term1 tf.Tensor(8095745500000000.0, shape=(), dtype=float32) term2 tf.Tensor(130449.77, shape=(), dtype=float32) term3 tf.Tensor(0.0, shape=(), dtype=float32) sum tf.Tensor(8095745500000000.0, shape=(), dtype=float32)\n"
     ]
    },
    {
     "name": "stderr",
     "output_type": "stream",
     "text": [
      "2025-03-06 11:08:38.084952: I tensorflow/core/framework/local_rendezvous.cc:405] Local rendezvous is aborting with status: OUT_OF_RANGE: End of sequence\n"
     ]
    },
    {
     "name": "stdout",
     "output_type": "stream",
     "text": [
      "term1 tf.Tensor(8083548300000000.0, shape=(), dtype=float32) term2 tf.Tensor(149798.25, shape=(), dtype=float32) term3 tf.Tensor(8.874491e-06, shape=(), dtype=float32) sum tf.Tensor(8083548300000000.0, shape=(), dtype=float32)\n",
      "term1 tf.Tensor(8095739500000000.0, shape=(), dtype=float32) term2 tf.Tensor(168659.97, shape=(), dtype=float32) term3 tf.Tensor(9.2929696e-07, shape=(), dtype=float32) sum tf.Tensor(8095739500000000.0, shape=(), dtype=float32)\n",
      "term1 tf.Tensor(8083542400000000.0, shape=(), dtype=float32) term2 tf.Tensor(186765.48, shape=(), dtype=float32) term3 tf.Tensor(1.0312424e-05, shape=(), dtype=float32) sum tf.Tensor(8083542400000000.0, shape=(), dtype=float32)\n",
      "term1 tf.Tensor(8095734000000000.0, shape=(), dtype=float32) term2 tf.Tensor(204092.31, shape=(), dtype=float32) term3 tf.Tensor(2.4329638e-06, shape=(), dtype=float32) sum tf.Tensor(8095734000000000.0, shape=(), dtype=float32)\n",
      "term1 tf.Tensor(8083538000000000.0, shape=(), dtype=float32) term2 tf.Tensor(220824.0, shape=(), dtype=float32) term3 tf.Tensor(1.134795e-05, shape=(), dtype=float32) sum tf.Tensor(8083538000000000.0, shape=(), dtype=float32)\n",
      "term1 tf.Tensor(8095730000000000.0, shape=(), dtype=float32) term2 tf.Tensor(237168.25, shape=(), dtype=float32) term3 tf.Tensor(3.4990255e-06, shape=(), dtype=float32) sum tf.Tensor(8095730000000000.0, shape=(), dtype=float32)\n",
      "term1 tf.Tensor(8083534000000000.0, shape=(), dtype=float32) term2 tf.Tensor(253355.38, shape=(), dtype=float32) term3 tf.Tensor(1.22083875e-05, shape=(), dtype=float32) sum tf.Tensor(8083534000000000.0, shape=(), dtype=float32)\n",
      "term1 tf.Tensor(8095725600000000.0, shape=(), dtype=float32) term2 tf.Tensor(269514.56, shape=(), dtype=float32) term3 tf.Tensor(4.4446037e-06, shape=(), dtype=float32) sum tf.Tensor(8095725600000000.0, shape=(), dtype=float32)\n"
     ]
    },
    {
     "data": {
      "image/png": "[encoded data removed]",
      "text/plain": [
       "<Figure size 1000x500 with 1 Axes>"
      ]
     },
     "metadata": {},
     "output_type": "display_data"
    }
   ],
   "source": [
    "import matplotlib.pyplot as plt\n",
    "\n",
    "# Track loss history\n",
    "loss_history = []\n",
    "\n",
    "# Training parameters\n",
    "epochs = 10 # Keep this small for faster Optuna trials\n",
    "\n",
    "for epoch in range(epochs):\n",
    "    total_loss_epoch = 0.0  # Initialize total loss for the epoch\n",
    "    batch_count = 0  # Count number of batches\n",
    "    \n",
    "    for X_batch, y_batch in dataset:  # Iterate over each batch\n",
    "        with tf.GradientTape() as tape:\n",
    "            y_pred = model(X_batch)  # Get prediction for current batch\n",
    "            loss = make_custom_loss_batch(model, X_batch)(y_batch, y_pred)  # Your custom loss function\n",
    "        \n",
    "        # Accumulate the loss for all batches\n",
    "        total_loss_epoch += loss.numpy()  # Convert loss tensor to a float\n",
    "        batch_count += 1  # Count processed batches\n",
    "        \n",
    "        # Calculate gradients and update weights\n",
    "        gradients = tape.gradient(loss, model.trainable_variables)\n",
    "        optimizer.apply_gradients(zip(gradients, model.trainable_variables))\n",
    "    # Compute average loss per epoch\n",
    "    avg_loss_epoch = total_loss_epoch / batch_count\n",
    "    loss_history.append(avg_loss_epoch)\n",
    "\n",
    "# **Plot Loss Curve**\n",
    "plt.figure(figsize=(10, 5))\n",
    "plt.plot(range(1, epochs + 1), loss_history, label=\"Training Loss\", color='blue')\n",
    "plt.xlabel(\"Epoch\")\n",
    "plt.ylabel(\"Loss\")\n",
    "plt.title(\"Loss Curve\")\n",
    "plt.legend()\n",
    "plt.grid()\n",
    "plt.show()\n"
   ]
  },
  {
   "cell_type": "code",
   "execution_count": null,
   "id": "98a15cae-638c-4659-9589-605969521e71",
   "metadata": {},
   "outputs": [],
   "source": [
    "\n",
    "\n"
   ]
  }
 ],
 "metadata": {
  "kernelspec": {
   "display_name": "yuhui",
   "language": "python",
   "name": "yuhui"
  },
  "language_info": {
   "codemirror_mode": {
    "name": "ipython",
    "version": 3
   },
   "file_extension": ".py",
   "mimetype": "text/x-python",
   "name": "python",
   "nbconvert_exporter": "python",
   "pygments_lexer": "ipython3",
   "version": "3.9.20"
  }
 },
 "nbformat": 4,
 "nbformat_minor": 5
}
